{
 "cells": [
  {
   "cell_type": "code",
   "execution_count": 17,
   "metadata": {
    "collapsed": true
   },
   "outputs": [
    {
     "name": "stdout",
     "output_type": "stream",
     "text": [
      "Система для инфузии Vogt Medical\n",
      "\n",
      "Naturella прокладки Классик макси №8\n",
      "\n",
      "Carefree салфетки Алоэвоздухопроницаемые №20\n",
      "\n",
      "Clear шампунь Актив спорт 2в1мужской  400 мл\n",
      "\n"
     ]
    }
   ],
   "source": [
    "import re\n",
    "with open(\"data.txt\", 'rt+') as f:\n",
    "    for lines in f:\n",
    "        if(re.search(\"[ab*]\", lines)):\n",
    "            print(lines)\n"
   ]
  },
  {
   "cell_type": "code",
   "execution_count": 19,
   "outputs": [
    {
     "name": "stdout",
     "output_type": "stream",
     "text": [
      "abb\n",
      "\n"
     ]
    }
   ],
   "source": [
    "import re\n",
    "with open(\"data.txt\", 'rt+') as f:\n",
    "    for lines in f:\n",
    "        if(re.search(\"ab{2,3}[^b]\", lines)):\n",
    "            print(lines)\n"
   ],
   "metadata": {
    "collapsed": false
   }
  },
  {
   "cell_type": "code",
   "execution_count": 21,
   "outputs": [
    {
     "name": "stdout",
     "output_type": "stream",
     "text": [
      "a_v\n",
      "\n"
     ]
    }
   ],
   "source": [
    "\n",
    "import re\n",
    "with open(\"data.txt\", 'rt+') as f:\n",
    "    for lines in f:\n",
    "        if(re.search(\"(?:[a-z]_[a-z]*)\", lines)):\n",
    "            print(lines)"
   ],
   "metadata": {
    "collapsed": false
   }
  },
  {
   "cell_type": "code",
   "execution_count": 67,
   "outputs": [
    {
     "name": "stdout",
     "output_type": "stream",
     "text": [
      "Шприц 2 мл, 3-х комп. (Bioject)\n",
      "\n",
      "Система для инфузии Vogt Medical\n",
      "\n",
      "Naturella прокладки Классик макси №8\n",
      "\n",
      "Carefree салфетки Алоэвоздухопроницаемые №20\n",
      "\n",
      "Pro Series Шампунь яркий цвет 500мл\n",
      "\n",
      "Pro Series бальзам-ополаскивательдля длител ухода за окрашеннымиволосами Яркий цвет 500мл\n",
      "\n",
      "Clear шампунь Актив спорт 2в1мужской  400 мл\n",
      "\n",
      "Bio World (HYDRO THERAPY)Мицеллярная вода 5в1, 445мл\n",
      "\n",
      "Bio World (HYDRO THERAPY) Гель-муссдля умывания с гиалуроновойкислотой, 250мл\n",
      "\n"
     ]
    }
   ],
   "source": [
    "import re\n",
    "with open(\"data.txt\", 'rt+') as f:\n",
    "    for lines in f:\n",
    "        if(re.search(\"(([A-Z][a-z]))\", lines)):\n",
    "            print(lines)"
   ],
   "metadata": {
    "collapsed": false
   }
  },
  {
   "cell_type": "markdown",
   "source": [
    "Write a Python program that matches a string that has an 'a' followed by anything ending in 'b'.\n"
   ],
   "metadata": {
    "collapsed": false
   }
  },
  {
   "cell_type": "code",
   "execution_count": 69,
   "outputs": [],
   "source": [
    "import re\n",
    "with open(\"data.txt\", 'rt+') as f:\n",
    "    for lines in f:\n",
    "        if(re.search(\"(a.+b$)\", lines)):\n",
    "            print(lines)"
   ],
   "metadata": {
    "collapsed": false
   }
  },
  {
   "cell_type": "markdown",
   "source": [
    "Write a Python program to replace all occurrences of space, comma, or dot with a colon.\n",
    "\n"
   ],
   "metadata": {
    "collapsed": false
   }
  },
  {
   "cell_type": "code",
   "execution_count": 27,
   "outputs": [
    {
     "name": "stdout",
     "output_type": "stream",
     "text": [
      "Филиал/ТОО/EUROPHARMA/Астана/\n",
      "БИН/080841000761/\n",
      "НДС/Серия/58001/\n",
      "/№/0014377/\n",
      "Касса/300-189/\n",
      "Смена/10/\n",
      "Порядковый/номер/чека/№64/\n",
      "Чек/№2331180266/\n",
      "Кассир/Аптека/17-1/\n",
      "1/\n",
      "Натрия/хлорид/0/9%/200/мл/фл/\n",
      "2/000/x/154/00/\n",
      "308/00/\n",
      "308/00/\n",
      "2/\n",
      "Борный/спирт/3%/20/мл/фл/\n",
      "1/000/x/51/00/\n",
      "51/00/\n",
      "51/00/\n",
      "3/\n",
      "Шприц/2/мл/3-х/комп/(Bioject)/\n",
      "2/000/x/16/00/\n",
      "32/00/\n",
      "32/00/\n",
      "4/\n",
      "Система/для/инфузии/Vogt/Medical/\n",
      "2/000/x/60/00/\n",
      "120/00/\n",
      "120/00/\n",
      "5/\n",
      "Naturella/прокладки/Классик/макси/№8/\n",
      "1/000/x/310/00/\n",
      "310/00/\n",
      "310/00/\n",
      "6/\n",
      "AURA/Ватные/диски/№150/\n",
      "1/000/x/461/00/\n",
      "461/00/\n",
      "461/00/\n",
      "7/\n",
      "Чистая/линия/скраб/мягкий/50/мл/\n",
      "1/000/x/381/00/\n",
      "381/00/\n",
      "381/00/\n",
      "8/\n",
      "Чистая/линия/скраб/очищающийабрикос/50/мл/\n",
      "1/000/x/386/00/\n",
      "386/00/\n",
      "386/00/\n",
      "9/\n",
      "Чистая/линия/скраб/мягкий/50/мл/\n",
      "1/000/x/381/00/\n",
      "381/00/\n",
      "381/00/\n",
      "10/\n",
      "Carefree/салфетки/Алоэвоздухопроницаемые/№20/\n",
      "1/000/x/414/00/\n",
      "414/00/\n",
      "414/00/\n",
      "11/\n",
      "Pro/Series/Шампунь/яркий/цвет/500мл/\n",
      "1/000/x/841/00/\n",
      "841/00/\n",
      "841/00/\n",
      "12/\n",
      "Pro/Series/бальзам-ополаскивательдля/длител/ухода/за/окрашеннымиволосами/Яркий/цвет/500мл/\n",
      "1/000/x/841/00/\n",
      "841/00/\n",
      "841/00/\n",
      "13/\n",
      "Clear/шампунь/Актив/спорт/2в1мужской/400/мл/\n",
      "1/000/x/1/200/00/\n",
      "1/200/00/\n",
      "1/200/00/\n",
      "14/\n",
      "Bio/World/(HYDRO/THERAPY)Мицеллярная/вода/5в1/445мл/\n",
      "1/000/x/1/152/00/\n",
      "1/152/00/\n",
      "1/152/00/\n",
      "15/\n",
      "Bio/World/(HYDRO/THERAPY)/Гель-муссдля/умывания/с/гиалуроновойкислотой/250мл/\n",
      "1/000/x/1/152/00/\n",
      "1/152/00/\n",
      "1/152/00/\n",
      "16/\n",
      "[RX]-Натрия/хлорид/0/9%/100/мл/фл/\n",
      "1/000/x/168/00/\n",
      "168/00/\n",
      "168/00/\n",
      "17/\n",
      "[RX]-Дисоль/р-р/400/мл/фл/\n",
      "1/000/x/163/00/\n",
      "163/00/\n",
      "163/00/\n",
      "18/\n",
      "Тагансорбент/с/иономи/серебра/№30/пор/\n",
      "1/000/x/1/526/00/\n",
      "1/526/00/\n",
      "1/526/00/\n",
      "19/\n",
      "[RX]-Церукал/2%/2/мл/№10/амп/\n",
      "2/000/x/396/00/\n",
      "792/00/\n",
      "792/00/\n",
      "20/\n",
      "[RX]-Андазол/200/мг/№40/табл/\n",
      "1/000/x/7/330/00/\n",
      "7/330/00/\n",
      "7/330/00/\n",
      "Банковская/карта:/\n",
      "18/009/00/\n",
      "18/009/00/\n",
      "в/т/ч/НДС/12%:/\n",
      "0/00/\n",
      "Фискальный/признак:/\n",
      "Время:/18/04/2019/11:13:58/\n",
      "г/Нур-султан/Казахстан/Мангилик/Ел/19/нп-5/\n",
      "Оператор/фискальных/данных:/АО\"Казахтелеком\"Для/проверки/чека/зайдите/на/сайт:consumer/oofd/kz/\n",
      "ФИСКАЛЬНЫЙ/ЧЕК/\n",
      "ИНК/ОФД:/311559/\n",
      "Код/ККМ/КГД/(РНМ):/620300145316/\n",
      "ЗНМ:/SWK00034961/\n",
      "WEBKASSA/KZ\n"
     ]
    }
   ],
   "source": [
    "import re\n",
    "with open(\"data.txt\", 'rt+') as f:\n",
    "    for lines in f:\n",
    "        if(re.search(\"([,. ]+)\", lines)):\n",
    "            a = lines\n",
    "            a = re.sub(\"[\\s.,]+\", \"/\", a)\n",
    "            print(a)"
   ],
   "metadata": {
    "collapsed": false
   }
  },
  {
   "cell_type": "markdown",
   "source": [
    "Write a python program to convert snake case string to camel case string.\n",
    "\n"
   ],
   "metadata": {
    "collapsed": false
   }
  },
  {
   "cell_type": "code",
   "execution_count": 70,
   "outputs": [
    {
     "name": "stdout",
     "output_type": "stream",
     "text": [
      "ItIsSnakeCase\n"
     ]
    }
   ],
   "source": [
    "import re\n",
    "a = \"It_is_snake_case\"\n",
    "def repl(match):\n",
    "    return match.group(1) + match.group(2).upper()\n",
    "a = re.sub(\"(.?)_([a-z])\", repl, a)\n",
    "print(a)"
   ],
   "metadata": {
    "collapsed": false
   }
  },
  {
   "cell_type": "markdown",
   "source": [
    "Write a Python program to split a string at uppercase letters."
   ],
   "metadata": {
    "collapsed": false
   }
  },
  {
   "cell_type": "code",
   "execution_count": 84,
   "outputs": [
    {
     "name": "stdout",
     "output_type": "stream",
     "text": [
      "['Ads', 'Asa', 'Afvc']\n",
      "Ads Asa Afvc\n"
     ]
    }
   ],
   "source": [
    "import re\n",
    "a = \"AdsAsaAfvc\"\n",
    "a = re.findall(\"[A-Z][^A-Z]*\", a)\n",
    "print(a)\n",
    "print(\" \".join(a))"
   ],
   "metadata": {
    "collapsed": false
   }
  },
  {
   "cell_type": "markdown",
   "source": [
    "Write a Python program to insert spaces between words starting with capital letters.\n",
    "\n"
   ],
   "metadata": {
    "collapsed": false
   }
  },
  {
   "cell_type": "code",
   "execution_count": null,
   "outputs": [],
   "source": [
    "import re\n",
    "a = \"AdsAsaAfvc\"\n",
    "a = re.findall(\"[A-Z][^A-Z]*\", a)\n",
    "print(a)\n",
    "print(\" \".join(a))"
   ],
   "metadata": {
    "collapsed": false
   }
  },
  {
   "cell_type": "code",
   "execution_count": 92,
   "outputs": [
    {
     "name": "stdout",
     "output_type": "stream",
     "text": [
      "ads_asa_afvc\n"
     ]
    }
   ],
   "source": [
    "import re\n",
    "def repl(match):\n",
    "    return match.group(1).lower()\n",
    "a = \"AdsAsaAfvc\"\n",
    "a = re.findall(\"[A-Z][^A-Z]*\", a)\n",
    "a = re.sub(\"([A-Z])\", repl, \"_\".join(a))\n",
    "print(a)\n"
   ],
   "metadata": {
    "collapsed": false
   }
  },
  {
   "cell_type": "markdown",
   "source": [],
   "metadata": {
    "collapsed": false
   }
  }
 ],
 "metadata": {
  "kernelspec": {
   "display_name": "Python 3",
   "language": "python",
   "name": "python3"
  },
  "language_info": {
   "codemirror_mode": {
    "name": "ipython",
    "version": 2
   },
   "file_extension": ".py",
   "mimetype": "text/x-python",
   "name": "python",
   "nbconvert_exporter": "python",
   "pygments_lexer": "ipython2",
   "version": "2.7.6"
  }
 },
 "nbformat": 4,
 "nbformat_minor": 0
}
