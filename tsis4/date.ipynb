{
 "cells": [
  {
   "cell_type": "code",
   "execution_count": 26,
   "metadata": {
    "collapsed": true
   },
   "outputs": [
    {
     "name": "stdout",
     "output_type": "stream",
     "text": [
      "02/12/23\n"
     ]
    }
   ],
   "source": [
    "import datetime\n",
    "now = datetime.datetime.now()\n",
    "now = now - datetime.timedelta(days=5)\n",
    "print(now.strftime(\"%D\"))"
   ]
  },
  {
   "cell_type": "code",
   "execution_count": 27,
   "outputs": [
    {
     "name": "stdout",
     "output_type": "stream",
     "text": [
      "Today - 02/17/23, yesterday - 02/16/23, tomorow - 02/18/23\n"
     ]
    }
   ],
   "source": [
    "import datetime\n",
    "today = datetime.datetime.now()\n",
    "tomorow = today + datetime.timedelta(days=1)\n",
    "yesterday = today - datetime.timedelta(days=1)\n",
    "print(f\"Today - {today.strftime('%D')}, yesterday - {yesterday.strftime('%D')}, tomorow - {tomorow.strftime('%D')}\")"
   ],
   "metadata": {
    "collapsed": false
   }
  },
  {
   "cell_type": "code",
   "execution_count": 28,
   "outputs": [
    {
     "name": "stdout",
     "output_type": "stream",
     "text": [
      "Without Microseconds - 2023-02-17 13:23:04\n"
     ]
    }
   ],
   "source": [
    "import datetime\n",
    "now = datetime.datetime.now()\n",
    "print(f\"Without Microseconds - {now.strftime('%Y-%m-%d %H:%M:%S')}\")"
   ],
   "metadata": {
    "collapsed": false
   }
  },
  {
   "cell_type": "markdown",
   "source": [],
   "metadata": {
    "collapsed": false
   }
  },
  {
   "cell_type": "code",
   "execution_count": 29,
   "outputs": [
    {
     "name": "stdout",
     "output_type": "stream",
     "text": [
      "86400\n"
     ]
    }
   ],
   "source": [
    "import datetime\n",
    "#date_entry = input('Enter a date in YYYY-MM-DD format')\n",
    "#year, month, day = map(int, date_entry.split('-'))\n",
    "#date1 = datetime.datetime(year, month, day)\n",
    "#date_entry2 = input('Enter a date in YYYY-MM-DD format')\n",
    "#year, month, day = map(int, date_entry2.split('-'))\n",
    "#date2 = datetime.datetime(year, month, day)\n",
    "dif = today.date() - yesterday.date()\n",
    "print(dif.days *86400)"
   ],
   "metadata": {
    "collapsed": false
   }
  }
 ],
 "metadata": {
  "kernelspec": {
   "display_name": "Python 3",
   "language": "python",
   "name": "python3"
  },
  "language_info": {
   "codemirror_mode": {
    "name": "ipython",
    "version": 2
   },
   "file_extension": ".py",
   "mimetype": "text/x-python",
   "name": "python",
   "nbconvert_exporter": "python",
   "pygments_lexer": "ipython2",
   "version": "2.7.6"
  }
 },
 "nbformat": 4,
 "nbformat_minor": 0
}
